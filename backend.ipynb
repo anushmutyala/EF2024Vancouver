{
 "cells": [
  {
   "cell_type": "markdown",
   "metadata": {},
   "source": [
    "```conda create -n <environment-name> --file req.txt```"
   ]
  },
  {
   "cell_type": "code",
   "execution_count": 1,
   "metadata": {},
   "outputs": [
    {
     "name": "stdout",
     "output_type": "stream",
     "text": [
      "Choice(finish_reason='stop', index=0, logprobs=None, message=ChatCompletionMessage(content='The image depicts a serene landscape featuring a wooden pathway winding through a lush green field. The path is surrounded by tall grass, with trees and shrubs visible in the background. The sky above is blue with some clouds, creating a peaceful and natural atmosphere.', role='assistant', function_call=None, tool_calls=None, refusal=None))\n"
     ]
    }
   ],
   "source": [
    "from openai import OpenAI\n",
    "\n",
    "client = OpenAI()\n",
    "\n",
    "response = client.chat.completions.create(\n",
    "  model=\"gpt-4o-mini\",\n",
    "  messages=[\n",
    "    {\n",
    "      \"role\": \"user\",\n",
    "      \"content\": [\n",
    "        {\"type\": \"text\", \"text\": \"What’s in this image?\"},\n",
    "        {\n",
    "          \"type\": \"image_url\",\n",
    "          \"image_url\": {\n",
    "            \"url\": \"https://upload.wikimedia.org/wikipedia/commons/thumb/d/dd/Gfp-wisconsin-madison-the-nature-boardwalk.jpg/2560px-Gfp-wisconsin-madison-the-nature-boardwalk.jpg\",\n",
    "          },\n",
    "        },\n",
    "      ],\n",
    "    }\n",
    "  ],\n",
    "  max_tokens=300,\n",
    ")\n",
    "\n",
    "print(response.choices[0])"
   ]
  },
  {
   "cell_type": "markdown",
   "metadata": {},
   "source": [
    "## JSON Schema\n",
    "\n",
    "On an individual basis, per image frame:\n",
    "\n",
    "{\n",
    "    \"raw_img\": [jpg encodings],\n",
    "    \"tools\": [list of tools used in action],\n",
    "    \"action\": [desc of what is being done in the frame],\n",
    "    \"timestamp\" [ts],\n",
    "}\n",
    "\n",
    "on a project basis, per image frame:\n",
    "\n",
    "{\n",
    "    \"raw img\": [jpg]\n",
    "    \"progression\": [major progress made from prev timestep],\n",
    "    \"step index\": [],\n",
    "    \n",
    "}\n",
    "\n"
   ]
  }
 ],
 "metadata": {
  "kernelspec": {
   "display_name": "llm",
   "language": "python",
   "name": "python3"
  },
  "language_info": {
   "codemirror_mode": {
    "name": "ipython",
    "version": 3
   },
   "file_extension": ".py",
   "mimetype": "text/x-python",
   "name": "python",
   "nbconvert_exporter": "python",
   "pygments_lexer": "ipython3",
   "version": "3.9.16"
  }
 },
 "nbformat": 4,
 "nbformat_minor": 2
}
